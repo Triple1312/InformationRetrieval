{
 "cells": [
  {
   "cell_type": "code",
   "execution_count": 32,
   "metadata": {},
   "outputs": [],
   "source": [
    "from newspaper import Article\n",
    "\n",
    "url = 'https://www.sciencedaily.com/releases/2022/12/221207163036.htm'\n",
    "article = Article(url)\n",
    "article.download()\n",
    "article.parse()"
   ]
  },
  {
   "cell_type": "code",
   "execution_count": 38,
   "metadata": {},
   "outputs": [
    {
     "data": {
      "text/plain": [
       "'Cornell University engineers have created a soft robot capable of detecting when and where it was damaged -- and then healing itself on the spot.\\n\\n\"Our lab is always trying to make robots more enduring and agile, so they operate longer with more capabilities,\" said Rob Shepherd, associate professor of mechanical and aerospace engineering. \"If you make robots operate for a long time, they\\'re going to accumulate damage. And so how can we allow them to repair or deal with that damage?\"\\n\\nShepherd\\'s Organic Robotics Lab has developed stretchable fiber-optic sensors for use in soft robots and related components -- from skin to wearable technology.\\n\\nFor self-healing to work, Shepard says the key first step is that the robot must be able to identify that there is, in fact, something that needs to be fixed.\\n\\nTo do this, researchers have pioneered a technique using fiber-optic sensors coupled with LED lights capable of detecting minute changes on the surface of the robot.\\n\\nThese sensors are combined with a polyurethane urea elastomer that incorporates hydrogen bonds, for rapid healing, and disulfide exchanges, for strength.\\n\\nThe resulting SHeaLDS -- self-healing light guides for dynamic sensing -- provides a damage-resistant soft robot that can self-heal from cuts at room temperature without any external intervention.\\n\\nTo demonstrate the technology, the researchers installed the SHeaLDS in a soft robot resembling a four-legged starfish and equipped it with feedback control. Researchers then punctured one of its legs six times, after which the robot was then able to detect the damage and self-heal each cut in about a minute. The robot could also autonomously adapt its gait based on the damage it sensed.\\n\\nWhile the material is sturdy, it is not indestructible.\\n\\n\"They have similar properties to human flesh,\" Shepherd said. \"You don\\'t heal well from burning, or from things with acid or heat, because that will change the chemical properties. But we can do a good job of healing from cuts.\"\\n\\nShepherd plans to integrate SHeaLDS with machine learning algorithms capable of recognizing tactile events to eventually create \"a very enduring robot that has a self-healing skin but uses the same skin to feel its environment to be able to do more tasks.\"'"
      ]
     },
     "execution_count": 38,
     "metadata": {},
     "output_type": "execute_result"
    }
   ],
   "source": [
    "article.text"
   ]
  },
  {
   "cell_type": "code",
   "execution_count": 39,
   "metadata": {},
   "outputs": [],
   "source": [
    "import spacy\n",
    "from spacy.lang.en.stop_words import STOP_WORDS\n",
    "from string import punctuation\n",
    "from heapq import nlargest"
   ]
  },
  {
   "cell_type": "code",
   "execution_count": 41,
   "metadata": {},
   "outputs": [],
   "source": [
    "def summarize(text, per):\n",
    "    nlp = spacy.load('en_core_web_sm')\n",
    "    doc= nlp(text)\n",
    "    tokens=[token.text for token in doc]\n",
    "    word_frequencies={}\n",
    "    for word in doc:\n",
    "        if word.text.lower() not in list(STOP_WORDS):\n",
    "            if word.text.lower() not in punctuation:\n",
    "                if word.text not in word_frequencies.keys():\n",
    "                    word_frequencies[word.text] = 1\n",
    "                else:\n",
    "                    word_frequencies[word.text] += 1\n",
    "    max_frequency=max(word_frequencies.values())\n",
    "    for word in word_frequencies.keys():\n",
    "        word_frequencies[word]=word_frequencies[word]/max_frequency\n",
    "    sentence_tokens= [sent for sent in doc.sents]\n",
    "    sentence_scores = {}\n",
    "    for sent in sentence_tokens:\n",
    "        for word in sent:\n",
    "            if word.text.lower() in word_frequencies.keys():\n",
    "                if sent not in sentence_scores.keys():                            \n",
    "                    sentence_scores[sent]=word_frequencies[word.text.lower()]\n",
    "                else:\n",
    "                    sentence_scores[sent]+=word_frequencies[word.text.lower()]\n",
    "    select_length=int(len(sentence_tokens)*per)\n",
    "    summary=nlargest(select_length, sentence_scores,key=sentence_scores.get)\n",
    "    final_summary=[word.text for word in summary]\n",
    "    summary=''.join(final_summary)\n",
    "    return summary"
   ]
  },
  {
   "cell_type": "code",
   "execution_count": 43,
   "metadata": {},
   "outputs": [
    {
     "data": {
      "text/plain": [
       "'The resulting SHeaLDS -- self-healing light guides for dynamic sensing -- provides a damage-resistant soft robot that can self-heal from cuts at room temperature without any external intervention.\\n\\n'"
      ]
     },
     "execution_count": 43,
     "metadata": {},
     "output_type": "execute_result"
    }
   ],
   "source": [
    "summarize(article.text, 0.1)"
   ]
  }
 ],
 "metadata": {
  "kernelspec": {
   "display_name": "Python 3",
   "language": "python",
   "name": "python3"
  },
  "language_info": {
   "codemirror_mode": {
    "name": "ipython",
    "version": 3
   },
   "file_extension": ".py",
   "mimetype": "text/x-python",
   "name": "python",
   "nbconvert_exporter": "python",
   "pygments_lexer": "ipython3",
   "version": "3.10.4"
  },
  "orig_nbformat": 4,
  "vscode": {
   "interpreter": {
    "hash": "e03268e6a6edf64058914c3483354e384bb2ac295c10776263c3aa47ebedfcc9"
   }
  }
 },
 "nbformat": 4,
 "nbformat_minor": 2
}
